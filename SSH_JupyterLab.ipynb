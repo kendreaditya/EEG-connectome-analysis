{
  "nbformat": 4,
  "nbformat_minor": 0,
  "metadata": {
    "colab": {
      "name": "SSH-Jupyterlab",
      "provenance": [],
      "collapsed_sections": []
    },
    "kernelspec": {
      "name": "python3",
      "display_name": "Python 3"
    },
    "accelerator": "GPU"
  },
  "cells": [
    {
      "cell_type": "code",
      "metadata": {
        "id": "cvOngRVPi9ge",
        "outputId": "947500ec-42e1-4f90-b62f-91eeca78f4f1",
        "colab": {
          "base_uri": "https://localhost:8080/",
          "height": 1000
        }
      },
      "source": [
        "from google.colab import drive, output\n",
        "\n",
        "!git config --global user.username \"kendreaditya\"\n",
        "!git config --global user.email \"kendreaditya@gmail.com\"\n",
        "!git config --global user.name \"Aditya Kendre\"\n",
        "\n",
        "# Install Dependencies\n",
        "!pip install mat73 -q\n",
        "#!curl https://raw.githubusercontent.com/pytorch/xla/master/contrib/scripts/env-setup.py -o pytorch-xla-env-setup.py\n",
        "#!python pytorch-xla-env-setup.py --version nightly --apt-packages libomp5 libopenblas-dev\n",
        "!pip install pytorch_lightning -q\n",
        "!pip install wandb -q\n",
        "output.clear()\n",
        "\n",
        "# Mount Google Drive\n",
        "from google.colab import drive\n",
        "drive.mount('/content/drive')\n",
        "\n",
        "# Clone Git Repo\n",
        "!rm -rf \"/content/EEG-connectome-analysis\"\n",
        "!git clone https://github.com/kendreaditya/EEG-connectome-analysis --quiet\n",
        "\n",
        "# SSH Client\n",
        "!pip install colab_ssh --upgrade -q\n",
        "from colab_ssh import launch_ssh\n",
        "from colab_ssh.get_tunnel_config import get_tunnel_config\n",
        "ngrokToken = None\n",
        "if ngrokToken is None:  \n",
        "  print(\"Got to: https://dashboard.ngrok.com/get-started/setup\")\n",
        "  ngrokToken = input(\"Enter authtoke from ngrok: \")\n",
        "launch_ssh(ngrokToken, \"password\")\n",
        "print(\"ssh -L 9999:localhost:9999 root@0.tcp.ngrok.io -p PORT\")\n",
        "info = get_tunnel_config()\n",
        "print(f\"ssh -p {info['port']} -N -f -L localhost:1111:0.0.0.0:2275 root@{info['domain']}\")\n",
        "\n",
        "# Jupyter Lab\n",
        "!pip3 install jupyterlab -q\n",
        "!jupyter lab --no-browser --port=2275 --ip=0.0.0.0"
      ],
      "execution_count": null,
      "outputs": [
        {
          "output_type": "stream",
          "text": [],
          "name": "stdout"
        }
      ]
    }
  ]
}
